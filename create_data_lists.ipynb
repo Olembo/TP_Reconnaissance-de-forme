{
 "cells": [
  {
   "cell_type": "code",
   "execution_count": 1,
   "metadata": {},
   "outputs": [
    {
     "name": "stdout",
     "output_type": "stream",
     "text": [
      "\n",
      "There are 16551 training images containing a total of 49653 objects. Files have been saved to /home/richmond/TPR2F.\n",
      "\n",
      "There are 4952 validation images containing a total of 14856 objects. Files have been saved to /home/richmond/TPR2F.\n"
     ]
    }
   ],
   "source": [
    "from utils import create_data_lists\n",
    "\n",
    "if __name__ == '__main__':\n",
    "    create_data_lists(voc07_path='/home/richmond/TPR2F/VOC2007',\n",
    "                      voc12_path='/home/richmond/TPR2F/VOC2012',\n",
    "                      output_folder='./')"
   ]
  },
  {
   "cell_type": "code",
   "execution_count": null,
   "metadata": {},
   "outputs": [],
   "source": []
  }
 ],
 "metadata": {
  "kernelspec": {
   "display_name": "Python 3",
   "language": "python",
   "name": "python3"
  },
  "language_info": {
   "codemirror_mode": {
    "name": "ipython",
    "version": 3
   },
   "file_extension": ".py",
   "mimetype": "text/x-python",
   "name": "python",
   "nbconvert_exporter": "python",
   "pygments_lexer": "ipython3",
   "version": "3.7.4"
  }
 },
 "nbformat": 4,
 "nbformat_minor": 2
}
